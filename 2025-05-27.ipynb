{
 "cells": [
  {
   "cell_type": "markdown",
   "id": "ea459e34",
   "metadata": {},
   "source": [
    "- API 인증키 받고 주소를 좌표로 변환해보기\n",
    "- shp 파일 컬럼 확인"
   ]
  },
  {
   "cell_type": "code",
   "execution_count": null,
   "id": "72acd864",
   "metadata": {},
   "outputs": [],
   "source": [
    "import requests\n",
    "apiurl = 'https://api.vworld.kr/req/address?'\n",
    "params = {\n",
    "\t\"service\": \"address\",\n",
    "\t\"request\": \"getcoord\",\n",
    "\t\"crs\": \"epsg:4326\",\n",
    "\t\"address\": \"주소\",\n",
    "\t\"format\": \"json\",\n",
    "\t\"type\": \"road\",\n",
    "\t\"key\": \"[인증키]\"\n",
    "}\n",
    "response = requests.get(apiurl, params=params)\n",
    "if response.status_code == 200:\n",
    "    response_json = response.json()\n",
    "response_json"
   ]
  },
  {
   "cell_type": "code",
   "execution_count": null,
   "id": "0fa942d6",
   "metadata": {},
   "outputs": [],
   "source": [
    "import geopandas as gpd\n",
    "import pandas as pd\n",
    "import matplotlib.pyplot as plt\n",
    "gdf = gpd.read_file('../../project/data/국토계획(도시지역)(부산)/LSMD_CONT_UQ111_26_202505.shp')\n",
    "print(\"컬럼 이름:\", gdf.columns)\n",
    "print(gdf.head())\n",
    "gdf.plot()"
   ]
  },
  {
   "cell_type": "code",
   "execution_count": null,
   "id": "57388413",
   "metadata": {},
   "outputs": [],
   "source": [
    "import geopandas as gpd\n",
    "import pandas as pd\n",
    "import matplotlib.pyplot as plt\n",
    "gdf = gpd.read_file('../../project/data/법정구역(읍면동)/AL_D001_00_20250504(SIG)/AL_D001_00_20250504(SIG).shp')\n",
    "print(\"컬럼 이름:\", gdf.columns)\n",
    "gdf.head(20)"
   ]
  }
 ],
 "metadata": {
  "kernelspec": {
   "display_name": "base",
   "language": "python",
   "name": "python3"
  },
  "language_info": {
   "codemirror_mode": {
    "name": "ipython",
    "version": 3
   },
   "file_extension": ".py",
   "mimetype": "text/x-python",
   "name": "python",
   "nbconvert_exporter": "python",
   "pygments_lexer": "ipython3",
   "version": "3.12.7"
  }
 },
 "nbformat": 4,
 "nbformat_minor": 5
}
