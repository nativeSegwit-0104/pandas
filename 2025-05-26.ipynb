{
 "cells": [
  {
   "cell_type": "markdown",
   "id": "b5a4642a",
   "metadata": {},
   "source": [
    "# 데이터프레임 행, 열 선택 및 필터\n",
    "\n",
    "- ## 특정한 열을 출력하고 싶을 때\n",
    "    - ` df.filter(items=[]) `\n",
    "    - 특정한 행을 출력하고 싶다면 `axis=0`을 추가\n",
    "- ## 열 이름에 특정한 문자가 포함된 열들만 출력하고 싶을 때\n",
    "    - ``` df.filter(like='문자', axis=1) ```\n",
    "- ## 반대로 행 이름에 특정한 문자가 포함된 행들만 출력하고 싶을 때\n",
    "    - ``` df.filter(like='문자', axis=0) ```\n",
    "- ## 행렬 이름들을 리스트로 반환\n",
    "    - ``` df.columns.to_list() # 열 이름을 리스트로 변환 ```\n",
    "    - ``` df.index.to_list() # 행 이름을 리스트로 반환 ```\n",
    "- ## 행렬 이름 변경\n",
    "    - ``` df.columns = ['a', 'b', 'c', 'd'] # 열 이름 변경```\n",
    "    - ``` df.index = ['문자A', '문자B', '숫자C'] # 행 이름 변경```\n",
    "- ## 정규 표현식을 사용해 필터링\n",
    "    - ` df.filter(regex='문자') `\n",
    "    \n",
    "    - ### 자주 사용되는 정규 표현식 패턴\n",
    "        - `^abc`: 문자열이 abc로 시작.\n",
    "        - `abc$`: 문자열이 abc로 끝남.\n",
    "        - `.*`: 임의의 문자 0개 이상.\n",
    "        - `\\d+`: 하나 이상의 숫자.\n",
    "        - `[a-z]+`: 소문자 알파벳 1개 이상.\n",
    "        - `[A-Z]+`: 대문자 알파벳 1개 이상.\n",
    "        - `col|xyz`: col 또는 xyz가 포함된 경우."
   ]
  },
  {
   "cell_type": "code",
   "execution_count": 51,
   "id": "761171cf",
   "metadata": {},
   "outputs": [
    {
     "data": {
      "text/html": [
       "<div>\n",
       "<style scoped>\n",
       "    .dataframe tbody tr th:only-of-type {\n",
       "        vertical-align: middle;\n",
       "    }\n",
       "\n",
       "    .dataframe tbody tr th {\n",
       "        vertical-align: top;\n",
       "    }\n",
       "\n",
       "    .dataframe thead th {\n",
       "        text-align: right;\n",
       "    }\n",
       "</style>\n",
       "<table border=\"1\" class=\"dataframe\">\n",
       "  <thead>\n",
       "    <tr style=\"text-align: right;\">\n",
       "      <th></th>\n",
       "      <th>문자열_2</th>\n",
       "    </tr>\n",
       "  </thead>\n",
       "  <tbody>\n",
       "    <tr>\n",
       "      <th>문자A</th>\n",
       "      <td>7</td>\n",
       "    </tr>\n",
       "    <tr>\n",
       "      <th>문자B</th>\n",
       "      <td>8</td>\n",
       "    </tr>\n",
       "    <tr>\n",
       "      <th>숫자C</th>\n",
       "      <td>9</td>\n",
       "    </tr>\n",
       "  </tbody>\n",
       "</table>\n",
       "</div>"
      ],
      "text/plain": [
       "     문자열_2\n",
       "문자A      7\n",
       "문자B      8\n",
       "숫자C      9"
      ]
     },
     "execution_count": 51,
     "metadata": {},
     "output_type": "execute_result"
    }
   ],
   "source": [
    "import pandas as pd\n",
    "from collections import OrderedDict\n",
    "\n",
    "# 예시 데이터프레임\n",
    "num_ordered_dict = OrderedDict(\n",
    "    [\n",
    "    ('문자열_1', [1, 2, 3]),\n",
    "    ('숫자_1', [4, 5, 6]),\n",
    "    ('문자열_2', [7, 8, 9]),\n",
    "    ('데이터', [10, 11, 12])\n",
    "    ]\n",
    ")\n",
    "df = pd.DataFrame.from_dict(num_ordered_dict)\n",
    "df.index = ['문자A', '문자B', '숫자C']\n",
    "df.filter(items=['문자열_2'])"
   ]
  },
  {
   "cell_type": "markdown",
   "id": "7600c537",
   "metadata": {},
   "source": [
    "5월 24일 만들어본 데이터 프레임에 index 파라미터 추가해보기"
   ]
  },
  {
   "cell_type": "code",
   "execution_count": 56,
   "id": "a056d568",
   "metadata": {},
   "outputs": [
    {
     "data": {
      "text/html": [
       "<div>\n",
       "<style scoped>\n",
       "    .dataframe tbody tr th:only-of-type {\n",
       "        vertical-align: middle;\n",
       "    }\n",
       "\n",
       "    .dataframe tbody tr th {\n",
       "        vertical-align: top;\n",
       "    }\n",
       "\n",
       "    .dataframe thead th {\n",
       "        text-align: right;\n",
       "    }\n",
       "</style>\n",
       "<table border=\"1\" class=\"dataframe\">\n",
       "  <thead>\n",
       "    <tr style=\"text-align: right;\">\n",
       "      <th></th>\n",
       "      <th>name</th>\n",
       "      <th>number</th>\n",
       "      <th>price</th>\n",
       "    </tr>\n",
       "  </thead>\n",
       "  <tbody>\n",
       "    <tr>\n",
       "      <th>비트</th>\n",
       "      <td>bitcoin</td>\n",
       "      <td>1</td>\n",
       "      <td>108719.00</td>\n",
       "    </tr>\n",
       "    <tr>\n",
       "      <th>이더</th>\n",
       "      <td>ethereum</td>\n",
       "      <td>2</td>\n",
       "      <td>2556.00</td>\n",
       "    </tr>\n",
       "    <tr>\n",
       "      <th>리플</th>\n",
       "      <td>ripple</td>\n",
       "      <td>3</td>\n",
       "      <td>2.35</td>\n",
       "    </tr>\n",
       "  </tbody>\n",
       "</table>\n",
       "</div>"
      ],
      "text/plain": [
       "        name  number      price\n",
       "비트   bitcoin       1  108719.00\n",
       "이더  ethereum       2    2556.00\n",
       "리플    ripple       3       2.35"
      ]
     },
     "execution_count": 56,
     "metadata": {},
     "output_type": "execute_result"
    }
   ],
   "source": [
    "crypto_list = [\n",
    "    ['bitcoin', 1, 108719],\n",
    "    ['ethereum', 2, 2556],\n",
    "    ['ripple', 3, 2.35]\n",
    "]\n",
    "columns_name = ['name', 'number', 'price']\n",
    "df_crypto = pd.DataFrame.from_records(crypto_list, columns = columns_name, index = ['비트', '이더', '리플'])\n",
    "df_crypto"
   ]
  }
 ],
 "metadata": {
  "kernelspec": {
   "display_name": "base",
   "language": "python",
   "name": "python3"
  },
  "language_info": {
   "codemirror_mode": {
    "name": "ipython",
    "version": 3
   },
   "file_extension": ".py",
   "mimetype": "text/x-python",
   "name": "python",
   "nbconvert_exporter": "python",
   "pygments_lexer": "ipython3",
   "version": "3.12.7"
  }
 },
 "nbformat": 4,
 "nbformat_minor": 5
}
