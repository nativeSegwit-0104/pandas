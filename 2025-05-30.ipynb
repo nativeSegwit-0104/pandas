{
 "cells": [
  {
   "cell_type": "markdown",
   "id": "330755af",
   "metadata": {},
   "source": [
    "# pandas: 파이썬에서 사용하는 데이터 분석 라이브러리\n",
    "\n",
    "## 1. Serise\n",
    "1차원 데이터(정수, 실수, 문자열 등)\n",
    "\n",
    "### Series 객체 생성\n",
    "- ex) 100 ~ 105까지 가격 데이터"
   ]
  },
  {
   "cell_type": "code",
   "execution_count": 2,
   "id": "54b58578",
   "metadata": {},
   "outputs": [
    {
     "data": {
      "text/plain": [
       "0    100\n",
       "1    101\n",
       "2    102\n",
       "3    103\n",
       "4    104\n",
       "5    105\n",
       "dtype: int64"
      ]
     },
     "execution_count": 2,
     "metadata": {},
     "output_type": "execute_result"
    }
   ],
   "source": [
    "import pandas as pd\n",
    "price = pd.Series([100, 101, 102, 103, 104, 105])\n",
    "price"
   ]
  },
  {
   "cell_type": "code",
   "execution_count": 3,
   "id": "afdd285d",
   "metadata": {},
   "outputs": [
    {
     "data": {
      "text/plain": [
       "2    102\n",
       "3    103\n",
       "dtype: int64"
      ]
     },
     "execution_count": 3,
     "metadata": {},
     "output_type": "execute_result"
    }
   ],
   "source": [
    "price[2:4]"
   ]
  },
  {
   "cell_type": "markdown",
   "id": "f6b6f31b",
   "metadata": {},
   "source": [
    "### Series 객체 생성(Index 지정)"
   ]
  },
  {
   "cell_type": "code",
   "execution_count": 4,
   "id": "47b55f78",
   "metadata": {},
   "outputs": [
    {
     "data": {
      "text/plain": [
       "mon    100\n",
       "tue    101\n",
       "wed    102\n",
       "thu    103\n",
       "fri    104\n",
       "sat    105\n",
       "dtype: int64"
      ]
     },
     "execution_count": 4,
     "metadata": {},
     "output_type": "execute_result"
    }
   ],
   "source": [
    "price = pd.Series([100, 101, 102, 103, 104, 105], index=['mon', 'tue', 'wed', 'thu', 'fri', 'sat'])\n",
    "price"
   ]
  },
  {
   "cell_type": "code",
   "execution_count": 10,
   "id": "027048a5",
   "metadata": {},
   "outputs": [
    {
     "data": {
      "text/plain": [
       "100"
      ]
     },
     "execution_count": 10,
     "metadata": {},
     "output_type": "execute_result"
    }
   ],
   "source": [
    "price['mon'] # index mon에 해당하는 값 출력"
   ]
  },
  {
   "cell_type": "markdown",
   "id": "2e354cbf",
   "metadata": {},
   "source": [
    "## 2. DataFrame\n",
    "2차원 데이터(Series들의 모음)"
   ]
  }
 ],
 "metadata": {
  "kernelspec": {
   "display_name": "base",
   "language": "python",
   "name": "python3"
  },
  "language_info": {
   "codemirror_mode": {
    "name": "ipython",
    "version": 3
   },
   "file_extension": ".py",
   "mimetype": "text/x-python",
   "name": "python",
   "nbconvert_exporter": "python",
   "pygments_lexer": "ipython3",
   "version": "3.12.7"
  }
 },
 "nbformat": 4,
 "nbformat_minor": 5
}
