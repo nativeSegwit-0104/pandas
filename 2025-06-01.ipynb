{
 "cells": [
  {
   "cell_type": "markdown",
   "id": "2edbd00c",
   "metadata": {},
   "source": [
    "## 5. 데이터 확인\n",
    "### DataFrame 확인\n",
    "- 계산 가능한 데이터에 대해 Column 별로 데이터의 개수, 평균, 표준편차, 최소/최댓값 등의 정보를 보여줌"
   ]
  },
  {
   "cell_type": "code",
   "execution_count": 13,
   "id": "c8d7416b",
   "metadata": {},
   "outputs": [
    {
     "data": {
      "text/html": [
       "<div>\n",
       "<style scoped>\n",
       "    .dataframe tbody tr th:only-of-type {\n",
       "        vertical-align: middle;\n",
       "    }\n",
       "\n",
       "    .dataframe tbody tr th {\n",
       "        vertical-align: top;\n",
       "    }\n",
       "\n",
       "    .dataframe thead th {\n",
       "        text-align: right;\n",
       "    }\n",
       "</style>\n",
       "<table border=\"1\" class=\"dataframe\">\n",
       "  <thead>\n",
       "    <tr style=\"text-align: right;\">\n",
       "      <th></th>\n",
       "      <th>A</th>\n",
       "      <th>B</th>\n",
       "      <th>C</th>\n",
       "      <th>D</th>\n",
       "    </tr>\n",
       "  </thead>\n",
       "  <tbody>\n",
       "    <tr>\n",
       "      <th>count</th>\n",
       "      <td>5.000000</td>\n",
       "      <td>5.000000</td>\n",
       "      <td>5.000000</td>\n",
       "      <td>5.00000</td>\n",
       "    </tr>\n",
       "    <tr>\n",
       "      <th>mean</th>\n",
       "      <td>3.000000</td>\n",
       "      <td>30.000000</td>\n",
       "      <td>300.000000</td>\n",
       "      <td>3000.00000</td>\n",
       "    </tr>\n",
       "    <tr>\n",
       "      <th>std</th>\n",
       "      <td>1.581139</td>\n",
       "      <td>15.811388</td>\n",
       "      <td>158.113883</td>\n",
       "      <td>1581.13883</td>\n",
       "    </tr>\n",
       "    <tr>\n",
       "      <th>min</th>\n",
       "      <td>1.000000</td>\n",
       "      <td>10.000000</td>\n",
       "      <td>100.000000</td>\n",
       "      <td>1000.00000</td>\n",
       "    </tr>\n",
       "    <tr>\n",
       "      <th>25%</th>\n",
       "      <td>2.000000</td>\n",
       "      <td>20.000000</td>\n",
       "      <td>200.000000</td>\n",
       "      <td>2000.00000</td>\n",
       "    </tr>\n",
       "    <tr>\n",
       "      <th>50%</th>\n",
       "      <td>3.000000</td>\n",
       "      <td>30.000000</td>\n",
       "      <td>300.000000</td>\n",
       "      <td>3000.00000</td>\n",
       "    </tr>\n",
       "    <tr>\n",
       "      <th>75%</th>\n",
       "      <td>4.000000</td>\n",
       "      <td>40.000000</td>\n",
       "      <td>400.000000</td>\n",
       "      <td>4000.00000</td>\n",
       "    </tr>\n",
       "    <tr>\n",
       "      <th>max</th>\n",
       "      <td>5.000000</td>\n",
       "      <td>50.000000</td>\n",
       "      <td>500.000000</td>\n",
       "      <td>5000.00000</td>\n",
       "    </tr>\n",
       "  </tbody>\n",
       "</table>\n",
       "</div>"
      ],
      "text/plain": [
       "              A          B           C           D\n",
       "count  5.000000   5.000000    5.000000     5.00000\n",
       "mean   3.000000  30.000000  300.000000  3000.00000\n",
       "std    1.581139  15.811388  158.113883  1581.13883\n",
       "min    1.000000  10.000000  100.000000  1000.00000\n",
       "25%    2.000000  20.000000  200.000000  2000.00000\n",
       "50%    3.000000  30.000000  300.000000  3000.00000\n",
       "75%    4.000000  40.000000  400.000000  4000.00000\n",
       "max    5.000000  50.000000  500.000000  5000.00000"
      ]
     },
     "execution_count": 13,
     "metadata": {},
     "output_type": "execute_result"
    }
   ],
   "source": [
    "import pandas as pd\n",
    "data = {\n",
    "    \"A\": [1, 2, 3, 4, 5],\n",
    "    \"B\": [10, 20, 30, 40, 50],\n",
    "    \"C\": [100, 200, 300, 400, 500],\n",
    "    \"D\": [1000, 2000, 3000, 4000, 5000],\n",
    "    \"E\": ['11', '22', '33', '44', '55'],\n",
    "}\n",
    "df = pd.DataFrame(data, index=[\"a\", \"b\", \"77\", \"d\", \"e\"])\n",
    "df.describe() # E column은 문자열이므로 제외됩니다."
   ]
  },
  {
   "cell_type": "code",
   "execution_count": 14,
   "id": "fa0c354f",
   "metadata": {},
   "outputs": [
    {
     "name": "stdout",
     "output_type": "stream",
     "text": [
      "<class 'pandas.core.frame.DataFrame'>\n",
      "Index: 5 entries, a to e\n",
      "Data columns (total 5 columns):\n",
      " #   Column  Non-Null Count  Dtype \n",
      "---  ------  --------------  ----- \n",
      " 0   A       5 non-null      int64 \n",
      " 1   B       5 non-null      int64 \n",
      " 2   C       5 non-null      int64 \n",
      " 3   D       5 non-null      int64 \n",
      " 4   E       5 non-null      object\n",
      "dtypes: int64(4), object(1)\n",
      "memory usage: 240.0+ bytes\n"
     ]
    }
   ],
   "source": [
    "df.info() # E 열은 문자열이므로 object 타입으로 표시됩니다."
   ]
  },
  {
   "cell_type": "code",
   "execution_count": 7,
   "id": "8c51cfaf",
   "metadata": {},
   "outputs": [
    {
     "data": {
      "text/plain": [
       "array([[1, 10, 100, 1000, '11'],\n",
       "       [2, 20, 200, 2000, '22'],\n",
       "       [3, 30, 300, 3000, '33'],\n",
       "       [4, 40, 400, 4000, '44'],\n",
       "       [5, 50, 500, 5000, '55']], dtype=object)"
      ]
     },
     "execution_count": 7,
     "metadata": {},
     "output_type": "execute_result"
    }
   ],
   "source": [
    "df.values # DataFrame의 값을 NumPy 배열로 반환합니다."
   ]
  },
  {
   "cell_type": "code",
   "execution_count": 15,
   "id": "73c1a53c",
   "metadata": {},
   "outputs": [
    {
     "data": {
      "text/plain": [
       "Index(['a', 'b', '77', 'd', 'e'], dtype='object')"
      ]
     },
     "execution_count": 15,
     "metadata": {},
     "output_type": "execute_result"
    }
   ],
   "source": [
    "df.index # DataFrame의 인덱스를 반환합니다."
   ]
  },
  {
   "cell_type": "code",
   "execution_count": 16,
   "id": "80d9ce5c",
   "metadata": {},
   "outputs": [
    {
     "data": {
      "text/plain": [
       "Index(['A', 'B', 'C', 'D', 'E'], dtype='object')"
      ]
     },
     "execution_count": 16,
     "metadata": {},
     "output_type": "execute_result"
    }
   ],
   "source": [
    "df.columns # DataFrame의 열 이름을 반환합니다."
   ]
  },
  {
   "cell_type": "code",
   "execution_count": 19,
   "id": "5e548b5c",
   "metadata": {},
   "outputs": [
    {
     "data": {
      "text/plain": [
       "(5, 5)"
      ]
     },
     "execution_count": 19,
     "metadata": {},
     "output_type": "execute_result"
    }
   ],
   "source": [
    "df.shape # DataFrame의 형태를 반환합니다. rows와 columns의 수를 튜플로 반환합니다."
   ]
  },
  {
   "cell_type": "markdown",
   "id": "52190372",
   "metadata": {},
   "source": [
    "### Series 확인인"
   ]
  },
  {
   "cell_type": "code",
   "execution_count": null,
   "id": "de09b281",
   "metadata": {},
   "outputs": [
    {
     "data": {
      "text/plain": [
       "count    5.000000\n",
       "mean     3.000000\n",
       "std      1.581139\n",
       "min      1.000000\n",
       "25%      2.000000\n",
       "50%      3.000000\n",
       "75%      4.000000\n",
       "max      5.000000\n",
       "Name: A, dtype: float64"
      ]
     },
     "execution_count": 20,
     "metadata": {},
     "output_type": "execute_result"
    }
   ],
   "source": [
    "df['A'].describe() # A 열에 대한 통계 요약을 반환합니다.\n",
    "# df['A'].mean() # A 열의 평균을 계산합니다.\n",
    "# df['A'].sum() # A 열의 합계를 계산합니다.\n",
    "# df['A'].max() # A 열의 최대값을 반환합니다.\n",
    "# df['A'].min() # A 열의 최소값을 반환합니다.\n",
    "# df['A'].std() # A 열의 표준편차를 계산합니다.\n",
    "# df['A'].var() # A 열의 분산을 계산합니다.\n",
    "# df['A'].median() # A 열의 중앙값을 계산합니다.\n",
    "# df['A'].quantile(0.5) # A 열의 50% 분위수를 계산합니다.\n",
    "# df['A'].quantile(0.25) # A 열의 25% 분위수를 계산합니다.\n",
    "# df['A'].quantile(0.75) # A 열의 75% 분위수를 계산합니다."
   ]
  },
  {
   "cell_type": "code",
   "execution_count": 24,
   "id": "d2544eee",
   "metadata": {},
   "outputs": [
    {
     "data": {
      "text/plain": [
       "C\n",
       "100    1\n",
       "200    1\n",
       "300    1\n",
       "400    1\n",
       "500    1\n",
       "Name: count, dtype: int64"
      ]
     },
     "execution_count": 24,
     "metadata": {},
     "output_type": "execute_result"
    }
   ],
   "source": [
    "df[\"B\"].nlargest(3) # B 열에서 가장 큰 3개의 값을 내림차순으로 반환합니다.\n",
    "df[\"B\"].nsmallest(2) # B 열에서 가장 작은 2개의 값을 오름차순으로 반환합니다.\n",
    "df[\"C\"].unique() # C 열의 중복을 제거한 고유 값을 반환합니다.\n",
    "df[\"C\"].count() # C 열의 NaN이 아닌 값의 개수를 반환합니다.\n",
    "df[\"C\"].value_counts() # C 열의 각 고유 값의 개수를 반환합니다."
   ]
  }
 ],
 "metadata": {
  "kernelspec": {
   "display_name": "base",
   "language": "python",
   "name": "python3"
  },
  "language_info": {
   "codemirror_mode": {
    "name": "ipython",
    "version": 3
   },
   "file_extension": ".py",
   "mimetype": "text/x-python",
   "name": "python",
   "nbconvert_exporter": "python",
   "pygments_lexer": "ipython3",
   "version": "3.12.7"
  }
 },
 "nbformat": 4,
 "nbformat_minor": 5
}
