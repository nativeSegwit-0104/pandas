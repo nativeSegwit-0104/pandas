{
 "cells": [
  {
   "cell_type": "markdown",
   "id": "99a56b79",
   "metadata": {},
   "source": [
    "# 행, 열 삭제\n",
    "\n",
    "- ## 특정한 인덱스 이름이 있는 행을 지우고 싶을 때\n",
    "    - ### .drop(['인덱스 이름1', '인덱스 이름2'])\n",
    "    - ### 만약 drop한 value를 바로 데이터 프레임에 적용하고 싶을 때\n",
    "        - .drop(['인덱스 이름1', '인덱스 이름2'], inplace=True)\n",
    "- ## 인덱스 번호로 행을 지울 때\n",
    "    - ### df = df.drop(df.index[0,2]) <!-- 0번과 2번 인덱스만 삭제 -->\n",
    "- ## 컬럼으로 지울 때\n",
    "    - ### df = df.drop('컬럼', axis=1)"
   ]
  }
 ],
 "metadata": {
  "language_info": {
   "name": "python"
  }
 },
 "nbformat": 4,
 "nbformat_minor": 5
}
